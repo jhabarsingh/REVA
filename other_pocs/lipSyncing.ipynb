{
 "cells": [
  {
   "cell_type": "code",
   "execution_count": 2,
   "id": "598efae6-d095-4e64-a8e9-4f92e02bdfdd",
   "metadata": {},
   "outputs": [
    {
     "name": "stdout",
     "output_type": "stream",
     "text": [
      "Cloning into 'Wav2Lip'...\n",
      "remote: Enumerating objects: 381, done.\u001b[K\n",
      "remote: Counting objects: 100% (3/3), done.\u001b[K\n",
      "remote: Compressing objects: 100% (3/3), done.\u001b[K\n",
      "remote: Total 381 (delta 0), reused 1 (delta 0), pack-reused 378\u001b[K\n",
      "Receiving objects: 100% (381/381), 534.01 KiB | 1.34 MiB/s, done.\n",
      "Resolving deltas: 100% (210/210), done.\n"
     ]
    }
   ],
   "source": [
    "!git clone https://github.com/Rudrabha/Wav2Lip.git\n"
   ]
  }
 ],
 "metadata": {
  "kernelspec": {
   "display_name": "Python 3 (ipykernel)",
   "language": "python",
   "name": "python3"
  },
  "language_info": {
   "codemirror_mode": {
    "name": "ipython",
    "version": 3
   },
   "file_extension": ".py",
   "mimetype": "text/x-python",
   "name": "python",
   "nbconvert_exporter": "python",
   "pygments_lexer": "ipython3",
   "version": "3.11.0"
  }
 },
 "nbformat": 4,
 "nbformat_minor": 5
}
