{
 "cells": [
  {
   "cell_type": "code",
   "execution_count": 2,
   "id": "d37bb793-8b2b-466f-a2d7-d912a94bb589",
   "metadata": {},
   "outputs": [
    {
     "name": "stdout",
     "output_type": "stream",
     "text": [
      "Video saved as output_video.avi\n"
     ]
    }
   ],
   "source": [
    "import cv2\n",
    "import numpy as np\n",
    "\n",
    "# Parameters\n",
    "image_path = 'model.jpg'\n",
    "output_video_path = 'output_video.avi'\n",
    "frame_width = 640\n",
    "frame_height = 480\n",
    "fps = 30  # Frames per second\n",
    "duration = 483  # Duration of the video in seconds\n",
    "\n",
    "# Load the image\n",
    "image = cv2.imread(image_path)\n",
    "image = cv2.resize(image, (frame_width, frame_height))  # Resize if needed\n",
    "\n",
    "# Define the codec and create VideoWriter object\n",
    "fourcc = cv2.VideoWriter_fourcc(*'XVID')\n",
    "out = cv2.VideoWriter(output_video_path, fourcc, fps, (frame_width, frame_height))\n",
    "\n",
    "# Calculate the number of frames\n",
    "total_frames = fps * duration\n",
    "\n",
    "# Write the image to the video multiple times\n",
    "for _ in range(total_frames):\n",
    "    out.write(image)\n",
    "\n",
    "# Release everything when job is finished\n",
    "out.release()\n",
    "cv2.destroyAllWindows()\n",
    "\n",
    "print(f\"Video saved as {output_video_path}\")\n"
   ]
  }
 ],
 "metadata": {
  "kernelspec": {
   "display_name": "Python 3 (ipykernel)",
   "language": "python",
   "name": "python3"
  },
  "language_info": {
   "codemirror_mode": {
    "name": "ipython",
    "version": 3
   },
   "file_extension": ".py",
   "mimetype": "text/x-python",
   "name": "python",
   "nbconvert_exporter": "python",
   "pygments_lexer": "ipython3",
   "version": "3.11.0"
  }
 },
 "nbformat": 4,
 "nbformat_minor": 5
}
